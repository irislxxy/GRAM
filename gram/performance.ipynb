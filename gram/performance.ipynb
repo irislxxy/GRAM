{
 "cells": [
  {
   "cell_type": "code",
   "execution_count": null,
   "metadata": {},
   "outputs": [],
   "source": [
    "import pickle\n",
    "import pandas as pd\n",
    "import numpy as np\n",
    "import re"
   ]
  },
  {
   "cell_type": "markdown",
   "metadata": {},
   "source": [
    "# CCS"
   ]
  },
  {
   "cell_type": "markdown",
   "metadata": {},
   "source": [
    "## dimSize"
   ]
  },
  {
   "cell_type": "code",
   "execution_count": 2,
   "metadata": {},
   "outputs": [
    {
     "name": "stdout",
     "output_type": "stream",
     "text": [
      "272\n"
     ]
    }
   ],
   "source": [
    "# dimSize\n",
    "seqs = pickle.load(open('../process_mimic/CCS.seqs', 'rb'))\n",
    "codeSet = set()\n",
    "for patient in seqs:\n",
    "    for visit in patient:\n",
    "        for code in visit:\n",
    "            codeSet.add(code)\n",
    "print(max(codeSet) + 1)"
   ]
  },
  {
   "cell_type": "markdown",
   "metadata": {},
   "source": [
    "## Frequencies"
   ]
  },
  {
   "cell_type": "code",
   "execution_count": 3,
   "metadata": {},
   "outputs": [
    {
     "data": {
      "text/html": [
       "<div>\n",
       "<style scoped>\n",
       "    .dataframe tbody tr th:only-of-type {\n",
       "        vertical-align: middle;\n",
       "    }\n",
       "\n",
       "    .dataframe tbody tr th {\n",
       "        vertical-align: top;\n",
       "    }\n",
       "\n",
       "    .dataframe thead th {\n",
       "        text-align: right;\n",
       "    }\n",
       "</style>\n",
       "<table border=\"1\" class=\"dataframe\">\n",
       "  <thead>\n",
       "    <tr style=\"text-align: right;\">\n",
       "      <th></th>\n",
       "      <th>code</th>\n",
       "      <th>freq</th>\n",
       "      <th>group</th>\n",
       "    </tr>\n",
       "  </thead>\n",
       "  <tbody>\n",
       "    <tr>\n",
       "      <th>0</th>\n",
       "      <td>0</td>\n",
       "      <td>0.042324</td>\n",
       "      <td>5</td>\n",
       "    </tr>\n",
       "    <tr>\n",
       "      <th>12</th>\n",
       "      <td>12</td>\n",
       "      <td>0.042063</td>\n",
       "      <td>5</td>\n",
       "    </tr>\n",
       "    <tr>\n",
       "      <th>44</th>\n",
       "      <td>44</td>\n",
       "      <td>0.034841</td>\n",
       "      <td>5</td>\n",
       "    </tr>\n",
       "    <tr>\n",
       "      <th>14</th>\n",
       "      <td>14</td>\n",
       "      <td>0.030623</td>\n",
       "      <td>5</td>\n",
       "    </tr>\n",
       "    <tr>\n",
       "      <th>3</th>\n",
       "      <td>3</td>\n",
       "      <td>0.028307</td>\n",
       "      <td>5</td>\n",
       "    </tr>\n",
       "    <tr>\n",
       "      <th>...</th>\n",
       "      <td>...</td>\n",
       "      <td>...</td>\n",
       "      <td>...</td>\n",
       "    </tr>\n",
       "    <tr>\n",
       "      <th>247</th>\n",
       "      <td>247</td>\n",
       "      <td>0.000004</td>\n",
       "      <td>1</td>\n",
       "    </tr>\n",
       "    <tr>\n",
       "      <th>242</th>\n",
       "      <td>242</td>\n",
       "      <td>0.000004</td>\n",
       "      <td>1</td>\n",
       "    </tr>\n",
       "    <tr>\n",
       "      <th>265</th>\n",
       "      <td>265</td>\n",
       "      <td>0.000004</td>\n",
       "      <td>1</td>\n",
       "    </tr>\n",
       "    <tr>\n",
       "      <th>270</th>\n",
       "      <td>270</td>\n",
       "      <td>0.000004</td>\n",
       "      <td>1</td>\n",
       "    </tr>\n",
       "    <tr>\n",
       "      <th>271</th>\n",
       "      <td>271</td>\n",
       "      <td>0.000004</td>\n",
       "      <td>1</td>\n",
       "    </tr>\n",
       "  </tbody>\n",
       "</table>\n",
       "<p>272 rows × 3 columns</p>\n",
       "</div>"
      ],
      "text/plain": [
       "     code      freq  group\n",
       "0       0  0.042324      5\n",
       "12     12  0.042063      5\n",
       "44     44  0.034841      5\n",
       "14     14  0.030623      5\n",
       "3       3  0.028307      5\n",
       "..    ...       ...    ...\n",
       "247   247  0.000004      1\n",
       "242   242  0.000004      1\n",
       "265   265  0.000004      1\n",
       "270   270  0.000004      1\n",
       "271   271  0.000004      1\n",
       "\n",
       "[272 rows x 3 columns]"
      ]
     },
     "execution_count": 3,
     "metadata": {},
     "output_type": "execute_result"
    }
   ],
   "source": [
    "# first rank all labels by their frequencies\n",
    "df_freq = pd.DataFrame(np.arange(0,272), columns=['code'])\n",
    "codeList = []\n",
    "for patient in seqs: \n",
    "        for visit in patient: \n",
    "            for code in visit:\n",
    "                codeList.append(code)\n",
    "temp = pd.DataFrame(pd.value_counts(codeList)/len(codeList), columns=['freq'])\n",
    "df_freq = df_freq.join(temp, how='left')\n",
    "df_freq = df_freq.sort_values(by=['freq'], ascending=False)\n",
    "# equally divide them into five groups\n",
    "df_freq['group'] = 1\n",
    "df_freq.loc[df_freq['freq']>np.quantile(df_freq['freq'], 0.2),'group'] = 2\n",
    "df_freq.loc[df_freq['freq']>np.quantile(df_freq['freq'], 0.4),'group'] = 3\n",
    "df_freq.loc[df_freq['freq']>np.quantile(df_freq['freq'], 0.6),'group'] = 4\n",
    "df_freq.loc[df_freq['freq']>np.quantile(df_freq['freq'], 0.8),'group'] = 5\n",
    "df_freq"
   ]
  },
  {
   "cell_type": "markdown",
   "metadata": {},
   "source": [
    "## testSet"
   ]
  },
  {
   "cell_type": "code",
   "execution_count": 4,
   "metadata": {},
   "outputs": [
    {
     "data": {
      "text/plain": [
       "(3,)"
      ]
     },
     "execution_count": 4,
     "metadata": {},
     "output_type": "execute_result"
    }
   ],
   "source": [
    "testSet = np.array(pickle.load(open('testSet_CCS', 'rb')))\n",
    "testSet.shape"
   ]
  },
  {
   "cell_type": "code",
   "execution_count": 5,
   "metadata": {},
   "outputs": [
    {
     "data": {
      "text/plain": [
       "1130"
      ]
     },
     "execution_count": 5,
     "metadata": {},
     "output_type": "execute_result"
    }
   ],
   "source": [
    "len(testSet[1])"
   ]
  },
  {
   "cell_type": "code",
   "execution_count": 6,
   "metadata": {},
   "outputs": [
    {
     "data": {
      "text/plain": [
       "34"
      ]
     },
     "execution_count": 6,
     "metadata": {},
     "output_type": "execute_result"
    }
   ],
   "source": [
    "max(len(i) for i in testSet[1])"
   ]
  },
  {
   "cell_type": "code",
   "execution_count": 7,
   "metadata": {},
   "outputs": [
    {
     "name": "stdout",
     "output_type": "stream",
     "text": [
      "764 [[1, 123, 12, 14], [202, 214, 183, 183, 50, 122, 14, 1, 129], [14, 15, 154, 17, 15, 99, 99, 99, 1, 14, 124, 84, 40, 18]]\n"
     ]
    }
   ],
   "source": [
    "for i in range(len(testSet[1])):\n",
    "    if len(testSet[1][i]) > 2:\n",
    "        print(i,testSet[1][i])\n",
    "        break"
   ]
  },
  {
   "cell_type": "markdown",
   "metadata": {},
   "source": [
    "## testPred"
   ]
  },
  {
   "cell_type": "code",
   "execution_count": 8,
   "metadata": {},
   "outputs": [
    {
     "data": {
      "text/plain": [
       "(33, 1130, 272)"
      ]
     },
     "execution_count": 8,
     "metadata": {},
     "output_type": "execute_result"
    }
   ],
   "source": [
    "testPred = np.array(pickle.load(open('testPred_CCS', 'rb')))\n",
    "testPred.shape"
   ]
  },
  {
   "cell_type": "code",
   "execution_count": 9,
   "metadata": {},
   "outputs": [
    {
     "data": {
      "text/plain": [
       "(33, 272)"
      ]
     },
     "execution_count": 9,
     "metadata": {},
     "output_type": "execute_result"
    }
   ],
   "source": [
    "testPred[:,0].shape"
   ]
  },
  {
   "cell_type": "code",
   "execution_count": 10,
   "metadata": {},
   "outputs": [
    {
     "data": {
      "text/plain": [
       "array([[8.54155552e-03, 1.11913936e-01, 2.35966600e-02, ...,\n",
       "        5.24361584e-05, 3.04615151e-05, 3.04776115e-05],\n",
       "       [9.46822969e-03, 5.22517795e-02, 1.68086964e-02, ...,\n",
       "        1.48974532e-04, 8.30134534e-05, 8.30784141e-05],\n",
       "       [0.00000000e+00, 0.00000000e+00, 0.00000000e+00, ...,\n",
       "        0.00000000e+00, 0.00000000e+00, 0.00000000e+00],\n",
       "       ...,\n",
       "       [0.00000000e+00, 0.00000000e+00, 0.00000000e+00, ...,\n",
       "        0.00000000e+00, 0.00000000e+00, 0.00000000e+00],\n",
       "       [0.00000000e+00, 0.00000000e+00, 0.00000000e+00, ...,\n",
       "        0.00000000e+00, 0.00000000e+00, 0.00000000e+00],\n",
       "       [0.00000000e+00, 0.00000000e+00, 0.00000000e+00, ...,\n",
       "        0.00000000e+00, 0.00000000e+00, 0.00000000e+00]])"
      ]
     },
     "execution_count": 10,
     "metadata": {},
     "output_type": "execute_result"
    }
   ],
   "source": [
    "testPred[:,764]"
   ]
  },
  {
   "cell_type": "code",
   "execution_count": 11,
   "metadata": {},
   "outputs": [
    {
     "data": {
      "text/plain": [
       "[114,\n",
       " 12,\n",
       " 56,\n",
       " 39,\n",
       " 35,\n",
       " 14,\n",
       " 44,\n",
       " 28,\n",
       " 9,\n",
       " 18,\n",
       " 42,\n",
       " 103,\n",
       " 45,\n",
       " 3,\n",
       " 37,\n",
       " 36,\n",
       " 119,\n",
       " 53,\n",
       " 2,\n",
       " 58]"
      ]
     },
     "execution_count": 11,
     "metadata": {},
     "output_type": "execute_result"
    }
   ],
   "source": [
    "L2 = testPred[:,1016][0]\n",
    "sortAsc = np.argsort(L2)\n",
    "sortDesc = list(sortAsc)\n",
    "sortDesc.reverse()\n",
    "sortDesc[:20]"
   ]
  },
  {
   "cell_type": "markdown",
   "metadata": {},
   "source": [
    "## Auccary\n",
    "\n",
    "For every nonzero entry z in every real label vector y, counter[z] += 1 if top 20 indices of y_hat contain z, accuracy_z_@20=counter[z] / #occurrences[z]; similarly we can calculate accuracy@20 for groups of labels by (sum_z counter[z]) / (sum_z #occurrences[z])."
   ]
  },
  {
   "cell_type": "code",
   "execution_count": 12,
   "metadata": {},
   "outputs": [
    {
     "data": {
      "text/html": [
       "<div>\n",
       "<style scoped>\n",
       "    .dataframe tbody tr th:only-of-type {\n",
       "        vertical-align: middle;\n",
       "    }\n",
       "\n",
       "    .dataframe tbody tr th {\n",
       "        vertical-align: top;\n",
       "    }\n",
       "\n",
       "    .dataframe thead th {\n",
       "        text-align: right;\n",
       "    }\n",
       "</style>\n",
       "<table border=\"1\" class=\"dataframe\">\n",
       "  <thead>\n",
       "    <tr style=\"text-align: right;\">\n",
       "      <th></th>\n",
       "      <th>code</th>\n",
       "      <th>freq</th>\n",
       "      <th>group</th>\n",
       "      <th>y</th>\n",
       "      <th>top20</th>\n",
       "    </tr>\n",
       "  </thead>\n",
       "  <tbody>\n",
       "    <tr>\n",
       "      <th>0</th>\n",
       "      <td>0</td>\n",
       "      <td>0.042324</td>\n",
       "      <td>5</td>\n",
       "      <td>1070</td>\n",
       "      <td>992</td>\n",
       "    </tr>\n",
       "    <tr>\n",
       "      <th>12</th>\n",
       "      <td>12</td>\n",
       "      <td>0.042063</td>\n",
       "      <td>5</td>\n",
       "      <td>1136</td>\n",
       "      <td>1074</td>\n",
       "    </tr>\n",
       "    <tr>\n",
       "      <th>44</th>\n",
       "      <td>44</td>\n",
       "      <td>0.034841</td>\n",
       "      <td>5</td>\n",
       "      <td>920</td>\n",
       "      <td>920</td>\n",
       "    </tr>\n",
       "    <tr>\n",
       "      <th>14</th>\n",
       "      <td>14</td>\n",
       "      <td>0.030623</td>\n",
       "      <td>5</td>\n",
       "      <td>758</td>\n",
       "      <td>709</td>\n",
       "    </tr>\n",
       "    <tr>\n",
       "      <th>3</th>\n",
       "      <td>3</td>\n",
       "      <td>0.028307</td>\n",
       "      <td>5</td>\n",
       "      <td>669</td>\n",
       "      <td>624</td>\n",
       "    </tr>\n",
       "    <tr>\n",
       "      <th>...</th>\n",
       "      <td>...</td>\n",
       "      <td>...</td>\n",
       "      <td>...</td>\n",
       "      <td>...</td>\n",
       "      <td>...</td>\n",
       "    </tr>\n",
       "    <tr>\n",
       "      <th>247</th>\n",
       "      <td>247</td>\n",
       "      <td>0.000004</td>\n",
       "      <td>1</td>\n",
       "      <td>0</td>\n",
       "      <td>0</td>\n",
       "    </tr>\n",
       "    <tr>\n",
       "      <th>242</th>\n",
       "      <td>242</td>\n",
       "      <td>0.000004</td>\n",
       "      <td>1</td>\n",
       "      <td>0</td>\n",
       "      <td>0</td>\n",
       "    </tr>\n",
       "    <tr>\n",
       "      <th>265</th>\n",
       "      <td>265</td>\n",
       "      <td>0.000004</td>\n",
       "      <td>1</td>\n",
       "      <td>0</td>\n",
       "      <td>0</td>\n",
       "    </tr>\n",
       "    <tr>\n",
       "      <th>270</th>\n",
       "      <td>270</td>\n",
       "      <td>0.000004</td>\n",
       "      <td>1</td>\n",
       "      <td>0</td>\n",
       "      <td>0</td>\n",
       "    </tr>\n",
       "    <tr>\n",
       "      <th>271</th>\n",
       "      <td>271</td>\n",
       "      <td>0.000004</td>\n",
       "      <td>1</td>\n",
       "      <td>0</td>\n",
       "      <td>0</td>\n",
       "    </tr>\n",
       "  </tbody>\n",
       "</table>\n",
       "<p>272 rows × 5 columns</p>\n",
       "</div>"
      ],
      "text/plain": [
       "     code      freq  group     y  top20\n",
       "0       0  0.042324      5  1070    992\n",
       "12     12  0.042063      5  1136   1074\n",
       "44     44  0.034841      5   920    920\n",
       "14     14  0.030623      5   758    709\n",
       "3       3  0.028307      5   669    624\n",
       "..    ...       ...    ...   ...    ...\n",
       "247   247  0.000004      1     0      0\n",
       "242   242  0.000004      1     0      0\n",
       "265   265  0.000004      1     0      0\n",
       "270   270  0.000004      1     0      0\n",
       "271   271  0.000004      1     0      0\n",
       "\n",
       "[272 rows x 5 columns]"
      ]
     },
     "execution_count": 12,
     "metadata": {},
     "output_type": "execute_result"
    }
   ],
   "source": [
    "df_freq['y'] = 0\n",
    "df_freq['top20'] = 0\n",
    "\n",
    "n_person = testPred.shape[1]\n",
    "for patient in range(n_person): \n",
    "        n_pred = len(testSet[1][patient]) - 1\n",
    "        for visit in range(n_pred):\n",
    "            label = testSet[1][patient][visit+1]\n",
    "            prediction = testPred[:,patient][visit]\n",
    "            sortAsc = np.argsort(prediction)\n",
    "            sortDesc = list(sortAsc)\n",
    "            sortDesc.reverse()\n",
    "            top20 = sortDesc[:20]\n",
    "            for code in label:\n",
    "                df_freq.loc[code,'y'] += 1\n",
    "                if code in top20:\n",
    "                    df_freq.loc[code,'top20'] += 1\n",
    "df_freq"
   ]
  },
  {
   "cell_type": "code",
   "execution_count": 14,
   "metadata": {},
   "outputs": [
    {
     "data": {
      "text/html": [
       "<div>\n",
       "<style scoped>\n",
       "    .dataframe tbody tr th:only-of-type {\n",
       "        vertical-align: middle;\n",
       "    }\n",
       "\n",
       "    .dataframe tbody tr th {\n",
       "        vertical-align: top;\n",
       "    }\n",
       "\n",
       "    .dataframe thead th {\n",
       "        text-align: right;\n",
       "    }\n",
       "</style>\n",
       "<table border=\"1\" class=\"dataframe\">\n",
       "  <thead>\n",
       "    <tr style=\"text-align: right;\">\n",
       "      <th></th>\n",
       "      <th>0-20</th>\n",
       "      <th>20-40</th>\n",
       "      <th>40-60</th>\n",
       "      <th>60-80</th>\n",
       "      <th>80-100</th>\n",
       "    </tr>\n",
       "  </thead>\n",
       "  <tbody>\n",
       "    <tr>\n",
       "      <th>auc</th>\n",
       "      <td>0.0</td>\n",
       "      <td>0.038991</td>\n",
       "      <td>0.195719</td>\n",
       "      <td>0.211983</td>\n",
       "      <td>0.699736</td>\n",
       "    </tr>\n",
       "  </tbody>\n",
       "</table>\n",
       "</div>"
      ],
      "text/plain": [
       "     0-20     20-40     40-60     60-80    80-100\n",
       "auc   0.0  0.038991  0.195719  0.211983  0.699736"
      ]
     },
     "execution_count": 14,
     "metadata": {},
     "output_type": "execute_result"
    }
   ],
   "source": [
    "auc = []\n",
    "for i in range(1,6):\n",
    "    temp = df_freq[df_freq['group']==i]\n",
    "    auc.append(sum(temp['top20'])/sum(temp['y']))\n",
    "    \n",
    "res = pd.DataFrame(columns=['0-20', '20-40', '40-60', '60-80', '80-100'])\n",
    "res.loc['auc'] = auc\n",
    "res"
   ]
  },
  {
   "cell_type": "markdown",
   "metadata": {},
   "source": [
    "# MIMIC"
   ]
  },
  {
   "cell_type": "code",
   "execution_count": 16,
   "metadata": {},
   "outputs": [
    {
     "name": "stdout",
     "output_type": "stream",
     "text": [
      "942\n"
     ]
    }
   ],
   "source": [
    "# dimSize\n",
    "seqs = pickle.load(open('../process_mimic/mimic.3digitICD9.seqs', 'rb'))\n",
    "codeSet = set()\n",
    "for patient in seqs:\n",
    "    for visit in patient:\n",
    "        for code in visit:\n",
    "            codeSet.add(code)\n",
    "print(max(codeSet) + 1)"
   ]
  },
  {
   "cell_type": "code",
   "execution_count": 17,
   "metadata": {},
   "outputs": [
    {
     "data": {
      "text/html": [
       "<div>\n",
       "<style scoped>\n",
       "    .dataframe tbody tr th:only-of-type {\n",
       "        vertical-align: middle;\n",
       "    }\n",
       "\n",
       "    .dataframe tbody tr th {\n",
       "        vertical-align: top;\n",
       "    }\n",
       "\n",
       "    .dataframe thead th {\n",
       "        text-align: right;\n",
       "    }\n",
       "</style>\n",
       "<table border=\"1\" class=\"dataframe\">\n",
       "  <thead>\n",
       "    <tr style=\"text-align: right;\">\n",
       "      <th></th>\n",
       "      <th>code</th>\n",
       "      <th>freq</th>\n",
       "      <th>group</th>\n",
       "    </tr>\n",
       "  </thead>\n",
       "  <tbody>\n",
       "    <tr>\n",
       "      <th>6</th>\n",
       "      <td>6</td>\n",
       "      <td>0.031150</td>\n",
       "      <td>5</td>\n",
       "    </tr>\n",
       "    <tr>\n",
       "      <th>14</th>\n",
       "      <td>14</td>\n",
       "      <td>0.028785</td>\n",
       "      <td>5</td>\n",
       "    </tr>\n",
       "    <tr>\n",
       "      <th>13</th>\n",
       "      <td>13</td>\n",
       "      <td>0.028613</td>\n",
       "      <td>5</td>\n",
       "    </tr>\n",
       "    <tr>\n",
       "      <th>57</th>\n",
       "      <td>57</td>\n",
       "      <td>0.027955</td>\n",
       "      <td>5</td>\n",
       "    </tr>\n",
       "    <tr>\n",
       "      <th>39</th>\n",
       "      <td>39</td>\n",
       "      <td>0.027837</td>\n",
       "      <td>5</td>\n",
       "    </tr>\n",
       "    <tr>\n",
       "      <th>...</th>\n",
       "      <td>...</td>\n",
       "      <td>...</td>\n",
       "      <td>...</td>\n",
       "    </tr>\n",
       "    <tr>\n",
       "      <th>840</th>\n",
       "      <td>840</td>\n",
       "      <td>0.000004</td>\n",
       "      <td>1</td>\n",
       "    </tr>\n",
       "    <tr>\n",
       "      <th>839</th>\n",
       "      <td>839</td>\n",
       "      <td>0.000004</td>\n",
       "      <td>1</td>\n",
       "    </tr>\n",
       "    <tr>\n",
       "      <th>836</th>\n",
       "      <td>836</td>\n",
       "      <td>0.000004</td>\n",
       "      <td>1</td>\n",
       "    </tr>\n",
       "    <tr>\n",
       "      <th>723</th>\n",
       "      <td>723</td>\n",
       "      <td>0.000004</td>\n",
       "      <td>1</td>\n",
       "    </tr>\n",
       "    <tr>\n",
       "      <th>941</th>\n",
       "      <td>941</td>\n",
       "      <td>0.000004</td>\n",
       "      <td>1</td>\n",
       "    </tr>\n",
       "  </tbody>\n",
       "</table>\n",
       "<p>942 rows × 3 columns</p>\n",
       "</div>"
      ],
      "text/plain": [
       "     code      freq  group\n",
       "6       6  0.031150      5\n",
       "14     14  0.028785      5\n",
       "13     13  0.028613      5\n",
       "57     57  0.027955      5\n",
       "39     39  0.027837      5\n",
       "..    ...       ...    ...\n",
       "840   840  0.000004      1\n",
       "839   839  0.000004      1\n",
       "836   836  0.000004      1\n",
       "723   723  0.000004      1\n",
       "941   941  0.000004      1\n",
       "\n",
       "[942 rows x 3 columns]"
      ]
     },
     "execution_count": 17,
     "metadata": {},
     "output_type": "execute_result"
    }
   ],
   "source": [
    "# first rank all labels by their frequencies\n",
    "df_freq = pd.DataFrame(np.arange(0,942), columns=['code'])\n",
    "codeList = []\n",
    "for patient in seqs: \n",
    "        for visit in patient: \n",
    "            for code in visit:\n",
    "                codeList.append(code)\n",
    "temp = pd.DataFrame(pd.value_counts(codeList)/len(codeList), columns=['freq'])\n",
    "df_freq = df_freq.join(temp, how='left')\n",
    "df_freq = df_freq.sort_values(by=['freq'], ascending=False)\n",
    "# equally divide them into five groups\n",
    "df_freq['group'] = 1\n",
    "df_freq.loc[df_freq['freq']>np.quantile(df_freq['freq'], 0.2),'group'] = 2\n",
    "df_freq.loc[df_freq['freq']>np.quantile(df_freq['freq'], 0.4),'group'] = 3\n",
    "df_freq.loc[df_freq['freq']>np.quantile(df_freq['freq'], 0.6),'group'] = 4\n",
    "df_freq.loc[df_freq['freq']>np.quantile(df_freq['freq'], 0.8),'group'] = 5\n",
    "df_freq"
   ]
  },
  {
   "cell_type": "code",
   "execution_count": 18,
   "metadata": {},
   "outputs": [
    {
     "data": {
      "text/html": [
       "<div>\n",
       "<style scoped>\n",
       "    .dataframe tbody tr th:only-of-type {\n",
       "        vertical-align: middle;\n",
       "    }\n",
       "\n",
       "    .dataframe tbody tr th {\n",
       "        vertical-align: top;\n",
       "    }\n",
       "\n",
       "    .dataframe thead th {\n",
       "        text-align: right;\n",
       "    }\n",
       "</style>\n",
       "<table border=\"1\" class=\"dataframe\">\n",
       "  <thead>\n",
       "    <tr style=\"text-align: right;\">\n",
       "      <th></th>\n",
       "      <th>code</th>\n",
       "      <th>freq</th>\n",
       "      <th>group</th>\n",
       "      <th>y</th>\n",
       "      <th>top20</th>\n",
       "    </tr>\n",
       "  </thead>\n",
       "  <tbody>\n",
       "    <tr>\n",
       "      <th>6</th>\n",
       "      <td>6</td>\n",
       "      <td>0.031150</td>\n",
       "      <td>5</td>\n",
       "      <td>675</td>\n",
       "      <td>628</td>\n",
       "    </tr>\n",
       "    <tr>\n",
       "      <th>14</th>\n",
       "      <td>14</td>\n",
       "      <td>0.028785</td>\n",
       "      <td>5</td>\n",
       "      <td>672</td>\n",
       "      <td>652</td>\n",
       "    </tr>\n",
       "    <tr>\n",
       "      <th>13</th>\n",
       "      <td>13</td>\n",
       "      <td>0.028613</td>\n",
       "      <td>5</td>\n",
       "      <td>679</td>\n",
       "      <td>659</td>\n",
       "    </tr>\n",
       "    <tr>\n",
       "      <th>57</th>\n",
       "      <td>57</td>\n",
       "      <td>0.027955</td>\n",
       "      <td>5</td>\n",
       "      <td>678</td>\n",
       "      <td>676</td>\n",
       "    </tr>\n",
       "    <tr>\n",
       "      <th>39</th>\n",
       "      <td>39</td>\n",
       "      <td>0.027837</td>\n",
       "      <td>5</td>\n",
       "      <td>651</td>\n",
       "      <td>618</td>\n",
       "    </tr>\n",
       "    <tr>\n",
       "      <th>...</th>\n",
       "      <td>...</td>\n",
       "      <td>...</td>\n",
       "      <td>...</td>\n",
       "      <td>...</td>\n",
       "      <td>...</td>\n",
       "    </tr>\n",
       "    <tr>\n",
       "      <th>840</th>\n",
       "      <td>840</td>\n",
       "      <td>0.000004</td>\n",
       "      <td>1</td>\n",
       "      <td>0</td>\n",
       "      <td>0</td>\n",
       "    </tr>\n",
       "    <tr>\n",
       "      <th>839</th>\n",
       "      <td>839</td>\n",
       "      <td>0.000004</td>\n",
       "      <td>1</td>\n",
       "      <td>0</td>\n",
       "      <td>0</td>\n",
       "    </tr>\n",
       "    <tr>\n",
       "      <th>836</th>\n",
       "      <td>836</td>\n",
       "      <td>0.000004</td>\n",
       "      <td>1</td>\n",
       "      <td>0</td>\n",
       "      <td>0</td>\n",
       "    </tr>\n",
       "    <tr>\n",
       "      <th>723</th>\n",
       "      <td>723</td>\n",
       "      <td>0.000004</td>\n",
       "      <td>1</td>\n",
       "      <td>0</td>\n",
       "      <td>0</td>\n",
       "    </tr>\n",
       "    <tr>\n",
       "      <th>941</th>\n",
       "      <td>941</td>\n",
       "      <td>0.000004</td>\n",
       "      <td>1</td>\n",
       "      <td>0</td>\n",
       "      <td>0</td>\n",
       "    </tr>\n",
       "  </tbody>\n",
       "</table>\n",
       "<p>942 rows × 5 columns</p>\n",
       "</div>"
      ],
      "text/plain": [
       "     code      freq  group    y  top20\n",
       "6       6  0.031150      5  675    628\n",
       "14     14  0.028785      5  672    652\n",
       "13     13  0.028613      5  679    659\n",
       "57     57  0.027955      5  678    676\n",
       "39     39  0.027837      5  651    618\n",
       "..    ...       ...    ...  ...    ...\n",
       "840   840  0.000004      1    0      0\n",
       "839   839  0.000004      1    0      0\n",
       "836   836  0.000004      1    0      0\n",
       "723   723  0.000004      1    0      0\n",
       "941   941  0.000004      1    0      0\n",
       "\n",
       "[942 rows x 5 columns]"
      ]
     },
     "execution_count": 18,
     "metadata": {},
     "output_type": "execute_result"
    }
   ],
   "source": [
    "testSet = np.array(pickle.load(open('testSet', 'rb')))\n",
    "testPred = np.array(pickle.load(open('testPred', 'rb')))\n",
    "df_freq['y'] = 0\n",
    "df_freq['top20'] = 0\n",
    "\n",
    "n_person = testPred.shape[1]\n",
    "for patient in range(n_person): \n",
    "        n_pred = len(testSet[1][patient]) - 1\n",
    "        for visit in range(n_pred):\n",
    "            label = testSet[1][patient][visit+1]\n",
    "            prediction = testPred[:,patient][visit]\n",
    "            sortAsc = np.argsort(prediction)\n",
    "            sortDesc = list(sortAsc)\n",
    "            sortDesc.reverse()\n",
    "            top20 = sortDesc[:20]\n",
    "            for code in label:\n",
    "                df_freq.loc[code,'y'] += 1\n",
    "                if code in top20:\n",
    "                    df_freq.loc[code,'top20'] += 1\n",
    "df_freq"
   ]
  },
  {
   "cell_type": "code",
   "execution_count": 19,
   "metadata": {},
   "outputs": [
    {
     "data": {
      "text/html": [
       "<div>\n",
       "<style scoped>\n",
       "    .dataframe tbody tr th:only-of-type {\n",
       "        vertical-align: middle;\n",
       "    }\n",
       "\n",
       "    .dataframe tbody tr th {\n",
       "        vertical-align: top;\n",
       "    }\n",
       "\n",
       "    .dataframe thead th {\n",
       "        text-align: right;\n",
       "    }\n",
       "</style>\n",
       "<table border=\"1\" class=\"dataframe\">\n",
       "  <thead>\n",
       "    <tr style=\"text-align: right;\">\n",
       "      <th></th>\n",
       "      <th>0-20</th>\n",
       "      <th>20-40</th>\n",
       "      <th>40-60</th>\n",
       "      <th>60-80</th>\n",
       "      <th>80-100</th>\n",
       "    </tr>\n",
       "  </thead>\n",
       "  <tbody>\n",
       "    <tr>\n",
       "      <th>auc</th>\n",
       "      <td>0.0</td>\n",
       "      <td>0.0</td>\n",
       "      <td>0.016349</td>\n",
       "      <td>0.093987</td>\n",
       "      <td>0.547594</td>\n",
       "    </tr>\n",
       "  </tbody>\n",
       "</table>\n",
       "</div>"
      ],
      "text/plain": [
       "     0-20  20-40     40-60     60-80    80-100\n",
       "auc   0.0    0.0  0.016349  0.093987  0.547594"
      ]
     },
     "execution_count": 19,
     "metadata": {},
     "output_type": "execute_result"
    }
   ],
   "source": [
    "auc = []\n",
    "for i in range(1,6):\n",
    "    temp = df_freq[df_freq['group']==i]\n",
    "    auc.append(sum(temp['top20'])/sum(temp['y']))\n",
    "    \n",
    "res = pd.DataFrame(columns=['0-20', '20-40', '40-60', '60-80', '80-100'])\n",
    "res.loc['auc'] = auc\n",
    "res"
   ]
  },
  {
   "cell_type": "code",
   "execution_count": null,
   "metadata": {},
   "outputs": [],
   "source": []
  }
 ],
 "metadata": {
  "kernelspec": {
   "display_name": "Python 3",
   "language": "python",
   "name": "python3"
  },
  "language_info": {
   "codemirror_mode": {
    "name": "ipython",
    "version": 3
   },
   "file_extension": ".py",
   "mimetype": "text/x-python",
   "name": "python",
   "nbconvert_exporter": "python",
   "pygments_lexer": "ipython3",
   "version": "3.8.3"
  }
 },
 "nbformat": 4,
 "nbformat_minor": 4
}
